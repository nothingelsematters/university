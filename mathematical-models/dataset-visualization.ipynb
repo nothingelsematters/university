{
 "cells": [
  {
   "cell_type": "code",
   "execution_count": 1,
   "metadata": {},
   "outputs": [
    {
     "data": {
      "text/html": [
       "\n",
       "<div id=\"altair-viz-1a543872676e49ba96fdcb9809928794\"></div>\n",
       "<script type=\"text/javascript\">\n",
       "  var VEGA_DEBUG = (typeof VEGA_DEBUG == \"undefined\") ? {} : VEGA_DEBUG;\n",
       "  (function(spec, embedOpt){\n",
       "    let outputDiv = document.currentScript.previousElementSibling;\n",
       "    if (outputDiv.id !== \"altair-viz-1a543872676e49ba96fdcb9809928794\") {\n",
       "      outputDiv = document.getElementById(\"altair-viz-1a543872676e49ba96fdcb9809928794\");\n",
       "    }\n",
       "    const paths = {\n",
       "      \"vega\": \"https://cdn.jsdelivr.net/npm//vega@5?noext\",\n",
       "      \"vega-lib\": \"https://cdn.jsdelivr.net/npm//vega-lib?noext\",\n",
       "      \"vega-lite\": \"https://cdn.jsdelivr.net/npm//vega-lite@4.17.0?noext\",\n",
       "      \"vega-embed\": \"https://cdn.jsdelivr.net/npm//vega-embed@6?noext\",\n",
       "    };\n",
       "\n",
       "    function maybeLoadScript(lib, version) {\n",
       "      var key = `${lib.replace(\"-\", \"\")}_version`;\n",
       "      return (VEGA_DEBUG[key] == version) ?\n",
       "        Promise.resolve(paths[lib]) :\n",
       "        new Promise(function(resolve, reject) {\n",
       "          var s = document.createElement('script');\n",
       "          document.getElementsByTagName(\"head\")[0].appendChild(s);\n",
       "          s.async = true;\n",
       "          s.onload = () => {\n",
       "            VEGA_DEBUG[key] = version;\n",
       "            return resolve(paths[lib]);\n",
       "          };\n",
       "          s.onerror = () => reject(`Error loading script: ${paths[lib]}`);\n",
       "          s.src = paths[lib];\n",
       "        });\n",
       "    }\n",
       "\n",
       "    function showError(err) {\n",
       "      outputDiv.innerHTML = `<div class=\"error\" style=\"color:red;\">${err}</div>`;\n",
       "      throw err;\n",
       "    }\n",
       "\n",
       "    function displayChart(vegaEmbed) {\n",
       "      vegaEmbed(outputDiv, spec, embedOpt)\n",
       "        .catch(err => showError(`Javascript Error: ${err.message}<br>This usually means there's a typo in your chart specification. See the javascript console for the full traceback.`));\n",
       "    }\n",
       "\n",
       "    if(typeof define === \"function\" && define.amd) {\n",
       "      requirejs.config({paths});\n",
       "      require([\"vega-embed\"], displayChart, err => showError(`Error loading script: ${err.message}`));\n",
       "    } else {\n",
       "      maybeLoadScript(\"vega\", \"5\")\n",
       "        .then(() => maybeLoadScript(\"vega-lite\", \"4.17.0\"))\n",
       "        .then(() => maybeLoadScript(\"vega-embed\", \"6\"))\n",
       "        .catch(showError)\n",
       "        .then(() => displayChart(vegaEmbed));\n",
       "    }\n",
       "  })({\"config\": {\"view\": {\"continuousWidth\": 400, \"continuousHeight\": 300}}, \"data\": {\"name\": \"data-5fa5560e19365df192d7d948aa66c61a\"}, \"mark\": {\"type\": \"point\", \"filled\": true}, \"encoding\": {\"color\": {\"field\": \"Genre\", \"type\": \"nominal\"}, \"opacity\": {\"value\": 0.5}, \"shape\": {\"field\": \"Valence\", \"type\": \"nominal\"}, \"size\": {\"field\": \"BeatsPerMinute\", \"type\": \"quantitative\"}, \"x\": {\"field\": \"Energy\", \"scale\": {\"domain\": [30, 90]}, \"type\": \"quantitative\"}, \"y\": {\"field\": \"Danceability\", \"scale\": {\"domain\": [25, 95]}, \"type\": \"quantitative\"}}, \"$schema\": \"https://vega.github.io/schema/vega-lite/v4.17.0.json\", \"datasets\": {\"data-5fa5560e19365df192d7d948aa66c61a\": [{\"Unnamed: 0\": 1, \"Track.Name\": \"Senorita\", \"Artist.Name\": \"Shawn Mendes\", \"Genre\": \"pop\", \"Beats.Per.Minute\": 117, \"Energy\": 55, \"Danceability\": 76, \"Loudness..dB..\": -6, \"Liveness\": 8, \"Valence.\": 75, \"Length.\": 191, \"Acousticness..\": 4, \"Speechiness.\": 3, \"Popularity\": 79, \"Valence\": \"happy\", \"BeatsPerMinute\": 117}, {\"Unnamed: 0\": 2, \"Track.Name\": \"China\", \"Artist.Name\": \"Anuel AA\", \"Genre\": \"other\", \"Beats.Per.Minute\": 105, \"Energy\": 81, \"Danceability\": 79, \"Loudness..dB..\": -4, \"Liveness\": 8, \"Valence.\": 61, \"Length.\": 302, \"Acousticness..\": 8, \"Speechiness.\": 9, \"Popularity\": 92, \"Valence\": \"ok\", \"BeatsPerMinute\": 105}, {\"Unnamed: 0\": 3, \"Track.Name\": \"boyfriend (with Social House)\", \"Artist.Name\": \"Ariana Grande\", \"Genre\": \"pop\", \"Beats.Per.Minute\": 190, \"Energy\": 80, \"Danceability\": 40, \"Loudness..dB..\": -4, \"Liveness\": 16, \"Valence.\": 70, \"Length.\": 186, \"Acousticness..\": 12, \"Speechiness.\": 46, \"Popularity\": 85, \"Valence\": \"ok\", \"BeatsPerMinute\": 190}, {\"Unnamed: 0\": 4, \"Track.Name\": \"Beautiful People (feat. Khalid)\", \"Artist.Name\": \"Ed Sheeran\", \"Genre\": \"pop\", \"Beats.Per.Minute\": 93, \"Energy\": 65, \"Danceability\": 64, \"Loudness..dB..\": -8, \"Liveness\": 8, \"Valence.\": 55, \"Length.\": 198, \"Acousticness..\": 12, \"Speechiness.\": 19, \"Popularity\": 86, \"Valence\": \"ok\", \"BeatsPerMinute\": 93}, {\"Unnamed: 0\": 5, \"Track.Name\": \"Goodbyes (Feat. Young Thug)\", \"Artist.Name\": \"Post Malone\", \"Genre\": \"rap/hip hop\", \"Beats.Per.Minute\": 150, \"Energy\": 65, \"Danceability\": 58, \"Loudness..dB..\": -4, \"Liveness\": 11, \"Valence.\": 18, \"Length.\": 175, \"Acousticness..\": 45, \"Speechiness.\": 7, \"Popularity\": 94, \"Valence\": \"sad\", \"BeatsPerMinute\": 150}, {\"Unnamed: 0\": 6, \"Track.Name\": \"I Don't Care (with Justin Bieber)\", \"Artist.Name\": \"Ed Sheeran\", \"Genre\": \"pop\", \"Beats.Per.Minute\": 102, \"Energy\": 68, \"Danceability\": 80, \"Loudness..dB..\": -5, \"Liveness\": 9, \"Valence.\": 84, \"Length.\": 220, \"Acousticness..\": 9, \"Speechiness.\": 4, \"Popularity\": 84, \"Valence\": \"happy\", \"BeatsPerMinute\": 102}, {\"Unnamed: 0\": 7, \"Track.Name\": \"Ransom\", \"Artist.Name\": \"Lil Tecca\", \"Genre\": \"rap/hip hop\", \"Beats.Per.Minute\": 180, \"Energy\": 64, \"Danceability\": 75, \"Loudness..dB..\": -6, \"Liveness\": 7, \"Valence.\": 23, \"Length.\": 131, \"Acousticness..\": 2, \"Speechiness.\": 29, \"Popularity\": 92, \"Valence\": \"sad\", \"BeatsPerMinute\": 180}, {\"Unnamed: 0\": 8, \"Track.Name\": \"How Do You Sleep?\", \"Artist.Name\": \"Sam Smith\", \"Genre\": \"pop\", \"Beats.Per.Minute\": 111, \"Energy\": 68, \"Danceability\": 48, \"Loudness..dB..\": -5, \"Liveness\": 8, \"Valence.\": 35, \"Length.\": 202, \"Acousticness..\": 15, \"Speechiness.\": 9, \"Popularity\": 90, \"Valence\": \"ok\", \"BeatsPerMinute\": 111}, {\"Unnamed: 0\": 9, \"Track.Name\": \"Old Town Road - Remix\", \"Artist.Name\": \"Lil Nas X\", \"Genre\": \"rap/hip hop\", \"Beats.Per.Minute\": 136, \"Energy\": 62, \"Danceability\": 88, \"Loudness..dB..\": -6, \"Liveness\": 11, \"Valence.\": 64, \"Length.\": 157, \"Acousticness..\": 5, \"Speechiness.\": 10, \"Popularity\": 87, \"Valence\": \"ok\", \"BeatsPerMinute\": 136}, {\"Unnamed: 0\": 10, \"Track.Name\": \"bad guy\", \"Artist.Name\": \"Billie Eilish\", \"Genre\": \"pop\", \"Beats.Per.Minute\": 135, \"Energy\": 43, \"Danceability\": 70, \"Loudness..dB..\": -11, \"Liveness\": 10, \"Valence.\": 56, \"Length.\": 194, \"Acousticness..\": 33, \"Speechiness.\": 38, \"Popularity\": 95, \"Valence\": \"ok\", \"BeatsPerMinute\": 135}, {\"Unnamed: 0\": 11, \"Track.Name\": \"Callaita\", \"Artist.Name\": \"Bad Bunny\", \"Genre\": \"other\", \"Beats.Per.Minute\": 176, \"Energy\": 62, \"Danceability\": 61, \"Loudness..dB..\": -5, \"Liveness\": 24, \"Valence.\": 24, \"Length.\": 251, \"Acousticness..\": 60, \"Speechiness.\": 31, \"Popularity\": 93, \"Valence\": \"sad\", \"BeatsPerMinute\": 176}, {\"Unnamed: 0\": 12, \"Track.Name\": \"Loco Contigo (feat. J. Balvin & Tyga)\", \"Artist.Name\": \"DJ Snake\", \"Genre\": \"pop\", \"Beats.Per.Minute\": 96, \"Energy\": 71, \"Danceability\": 82, \"Loudness..dB..\": -4, \"Liveness\": 15, \"Valence.\": 38, \"Length.\": 185, \"Acousticness..\": 28, \"Speechiness.\": 7, \"Popularity\": 86, \"Valence\": \"ok\", \"BeatsPerMinute\": 96}, {\"Unnamed: 0\": 13, \"Track.Name\": \"Someone You Loved\", \"Artist.Name\": \"Lewis Capaldi\", \"Genre\": \"pop\", \"Beats.Per.Minute\": 110, \"Energy\": 41, \"Danceability\": 50, \"Loudness..dB..\": -6, \"Liveness\": 11, \"Valence.\": 45, \"Length.\": 182, \"Acousticness..\": 75, \"Speechiness.\": 3, \"Popularity\": 88, \"Valence\": \"ok\", \"BeatsPerMinute\": 110}, {\"Unnamed: 0\": 14, \"Track.Name\": \"Otro Trago - Remix\", \"Artist.Name\": \"Sech\", \"Genre\": \"pop\", \"Beats.Per.Minute\": 176, \"Energy\": 79, \"Danceability\": 73, \"Loudness..dB..\": -2, \"Liveness\": 6, \"Valence.\": 76, \"Length.\": 288, \"Acousticness..\": 7, \"Speechiness.\": 20, \"Popularity\": 87, \"Valence\": \"happy\", \"BeatsPerMinute\": 176}, {\"Unnamed: 0\": 15, \"Track.Name\": \"Money In The Grave (Drake ft. Rick Ross)\", \"Artist.Name\": \"Drake\", \"Genre\": \"rap/hip hop\", \"Beats.Per.Minute\": 101, \"Energy\": 50, \"Danceability\": 83, \"Loudness..dB..\": -4, \"Liveness\": 12, \"Valence.\": 10, \"Length.\": 205, \"Acousticness..\": 10, \"Speechiness.\": 5, \"Popularity\": 92, \"Valence\": \"sad\", \"BeatsPerMinute\": 101}, {\"Unnamed: 0\": 16, \"Track.Name\": \"No Guidance (feat. Drake)\", \"Artist.Name\": \"Chris Brown\", \"Genre\": \"pop\", \"Beats.Per.Minute\": 93, \"Energy\": 45, \"Danceability\": 70, \"Loudness..dB..\": -7, \"Liveness\": 16, \"Valence.\": 14, \"Length.\": 261, \"Acousticness..\": 12, \"Speechiness.\": 15, \"Popularity\": 82, \"Valence\": \"sad\", \"BeatsPerMinute\": 93}, {\"Unnamed: 0\": 17, \"Track.Name\": \"LA CANCION\", \"Artist.Name\": \"J Balvin\", \"Genre\": \"other\", \"Beats.Per.Minute\": 176, \"Energy\": 65, \"Danceability\": 75, \"Loudness..dB..\": -6, \"Liveness\": 11, \"Valence.\": 43, \"Length.\": 243, \"Acousticness..\": 15, \"Speechiness.\": 32, \"Popularity\": 90, \"Valence\": \"ok\", \"BeatsPerMinute\": 176}, {\"Unnamed: 0\": 18, \"Track.Name\": \"Sunflower - Spider-Man: Into the Spider-Verse\", \"Artist.Name\": \"Post Malone\", \"Genre\": \"rap/hip hop\", \"Beats.Per.Minute\": 90, \"Energy\": 48, \"Danceability\": 76, \"Loudness..dB..\": -6, \"Liveness\": 7, \"Valence.\": 91, \"Length.\": 158, \"Acousticness..\": 56, \"Speechiness.\": 5, \"Popularity\": 91, \"Valence\": \"happy\", \"BeatsPerMinute\": 90}, {\"Unnamed: 0\": 19, \"Track.Name\": \"Lalala\", \"Artist.Name\": \"Y2K\", \"Genre\": \"rap/hip hop\", \"Beats.Per.Minute\": 130, \"Energy\": 39, \"Danceability\": 84, \"Loudness..dB..\": -8, \"Liveness\": 14, \"Valence.\": 50, \"Length.\": 161, \"Acousticness..\": 18, \"Speechiness.\": 8, \"Popularity\": 88, \"Valence\": \"ok\", \"BeatsPerMinute\": 130}, {\"Unnamed: 0\": 20, \"Track.Name\": \"Truth Hurts\", \"Artist.Name\": \"Lizzo\", \"Genre\": \"other\", \"Beats.Per.Minute\": 158, \"Energy\": 62, \"Danceability\": 72, \"Loudness..dB..\": -3, \"Liveness\": 12, \"Valence.\": 41, \"Length.\": 173, \"Acousticness..\": 11, \"Speechiness.\": 11, \"Popularity\": 91, \"Valence\": \"ok\", \"BeatsPerMinute\": 158}, {\"Unnamed: 0\": 21, \"Track.Name\": \"Piece Of Your Heart\", \"Artist.Name\": \"MEDUZA\", \"Genre\": \"pop\", \"Beats.Per.Minute\": 124, \"Energy\": 74, \"Danceability\": 68, \"Loudness..dB..\": -7, \"Liveness\": 7, \"Valence.\": 63, \"Length.\": 153, \"Acousticness..\": 4, \"Speechiness.\": 3, \"Popularity\": 91, \"Valence\": \"ok\", \"BeatsPerMinute\": 124}, {\"Unnamed: 0\": 22, \"Track.Name\": \"Panini\", \"Artist.Name\": \"Lil Nas X\", \"Genre\": \"rap/hip hop\", \"Beats.Per.Minute\": 154, \"Energy\": 59, \"Danceability\": 70, \"Loudness..dB..\": -6, \"Liveness\": 12, \"Valence.\": 48, \"Length.\": 115, \"Acousticness..\": 34, \"Speechiness.\": 8, \"Popularity\": 91, \"Valence\": \"ok\", \"BeatsPerMinute\": 154}, {\"Unnamed: 0\": 23, \"Track.Name\": \"No Me Conoce - Remix\", \"Artist.Name\": \"Jhay Cortez\", \"Genre\": \"other\", \"Beats.Per.Minute\": 92, \"Energy\": 79, \"Danceability\": 81, \"Loudness..dB..\": -4, \"Liveness\": 9, \"Valence.\": 58, \"Length.\": 309, \"Acousticness..\": 14, \"Speechiness.\": 7, \"Popularity\": 83, \"Valence\": \"ok\", \"BeatsPerMinute\": 92}, {\"Unnamed: 0\": 24, \"Track.Name\": \"Soltera - Remix\", \"Artist.Name\": \"Lunay\", \"Genre\": \"other\", \"Beats.Per.Minute\": 92, \"Energy\": 78, \"Danceability\": 80, \"Loudness..dB..\": -4, \"Liveness\": 44, \"Valence.\": 80, \"Length.\": 266, \"Acousticness..\": 36, \"Speechiness.\": 4, \"Popularity\": 91, \"Valence\": \"happy\", \"BeatsPerMinute\": 92}, {\"Unnamed: 0\": 25, \"Track.Name\": \"bad guy (with Justin Bieber)\", \"Artist.Name\": \"Billie Eilish\", \"Genre\": \"pop\", \"Beats.Per.Minute\": 135, \"Energy\": 45, \"Danceability\": 67, \"Loudness..dB..\": -11, \"Liveness\": 12, \"Valence.\": 68, \"Length.\": 195, \"Acousticness..\": 25, \"Speechiness.\": 30, \"Popularity\": 89, \"Valence\": \"ok\", \"BeatsPerMinute\": 135}, {\"Unnamed: 0\": 26, \"Track.Name\": \"If I Can't Have You\", \"Artist.Name\": \"Shawn Mendes\", \"Genre\": \"pop\", \"Beats.Per.Minute\": 124, \"Energy\": 82, \"Danceability\": 69, \"Loudness..dB..\": -4, \"Liveness\": 13, \"Valence.\": 87, \"Length.\": 191, \"Acousticness..\": 49, \"Speechiness.\": 6, \"Popularity\": 70, \"Valence\": \"happy\", \"BeatsPerMinute\": 124}, {\"Unnamed: 0\": 27, \"Track.Name\": \"Dance Monkey\", \"Artist.Name\": \"Tones and I\", \"Genre\": \"pop\", \"Beats.Per.Minute\": 98, \"Energy\": 59, \"Danceability\": 82, \"Loudness..dB..\": -6, \"Liveness\": 18, \"Valence.\": 54, \"Length.\": 210, \"Acousticness..\": 69, \"Speechiness.\": 10, \"Popularity\": 83, \"Valence\": \"ok\", \"BeatsPerMinute\": 98}, {\"Unnamed: 0\": 28, \"Track.Name\": \"It's You\", \"Artist.Name\": \"Ali Gatie\", \"Genre\": \"rap/hip hop\", \"Beats.Per.Minute\": 96, \"Energy\": 46, \"Danceability\": 73, \"Loudness..dB..\": -7, \"Liveness\": 19, \"Valence.\": 40, \"Length.\": 213, \"Acousticness..\": 37, \"Speechiness.\": 3, \"Popularity\": 89, \"Valence\": \"ok\", \"BeatsPerMinute\": 96}, {\"Unnamed: 0\": 29, \"Track.Name\": \"Con Calma\", \"Artist.Name\": \"Daddy Yankee\", \"Genre\": \"other\", \"Beats.Per.Minute\": 94, \"Energy\": 86, \"Danceability\": 74, \"Loudness..dB..\": -3, \"Liveness\": 6, \"Valence.\": 66, \"Length.\": 193, \"Acousticness..\": 11, \"Speechiness.\": 6, \"Popularity\": 91, \"Valence\": \"ok\", \"BeatsPerMinute\": 94}, {\"Unnamed: 0\": 30, \"Track.Name\": \"QUE PRETENDES\", \"Artist.Name\": \"J Balvin\", \"Genre\": \"other\", \"Beats.Per.Minute\": 93, \"Energy\": 79, \"Danceability\": 64, \"Loudness..dB..\": -4, \"Liveness\": 36, \"Valence.\": 94, \"Length.\": 222, \"Acousticness..\": 3, \"Speechiness.\": 25, \"Popularity\": 89, \"Valence\": \"happy\", \"BeatsPerMinute\": 93}, {\"Unnamed: 0\": 31, \"Track.Name\": \"Takeaway\", \"Artist.Name\": \"The Chainsmokers\", \"Genre\": \"other\", \"Beats.Per.Minute\": 85, \"Energy\": 51, \"Danceability\": 29, \"Loudness..dB..\": -8, \"Liveness\": 10, \"Valence.\": 36, \"Length.\": 210, \"Acousticness..\": 12, \"Speechiness.\": 4, \"Popularity\": 84, \"Valence\": \"ok\", \"BeatsPerMinute\": 85}, {\"Unnamed: 0\": 32, \"Track.Name\": \"7 rings\", \"Artist.Name\": \"Ariana Grande\", \"Genre\": \"pop\", \"Beats.Per.Minute\": 140, \"Energy\": 32, \"Danceability\": 78, \"Loudness..dB..\": -11, \"Liveness\": 9, \"Valence.\": 33, \"Length.\": 179, \"Acousticness..\": 59, \"Speechiness.\": 33, \"Popularity\": 89, \"Valence\": \"ok\", \"BeatsPerMinute\": 140}, {\"Unnamed: 0\": 33, \"Track.Name\": \"0.958333333333333\", \"Artist.Name\": \"Maluma\", \"Genre\": \"other\", \"Beats.Per.Minute\": 96, \"Energy\": 71, \"Danceability\": 78, \"Loudness..dB..\": -5, \"Liveness\": 9, \"Valence.\": 68, \"Length.\": 176, \"Acousticness..\": 22, \"Speechiness.\": 28, \"Popularity\": 89, \"Valence\": \"ok\", \"BeatsPerMinute\": 96}, {\"Unnamed: 0\": 34, \"Track.Name\": \"The London (feat. J. Cole & Travis Scott)\", \"Artist.Name\": \"Young Thug\", \"Genre\": \"rap/hip hop\", \"Beats.Per.Minute\": 98, \"Energy\": 59, \"Danceability\": 80, \"Loudness..dB..\": -7, \"Liveness\": 13, \"Valence.\": 18, \"Length.\": 200, \"Acousticness..\": 2, \"Speechiness.\": 15, \"Popularity\": 89, \"Valence\": \"sad\", \"BeatsPerMinute\": 98}, {\"Unnamed: 0\": 35, \"Track.Name\": \"Never Really Over\", \"Artist.Name\": \"Katy Perry\", \"Genre\": \"pop\", \"Beats.Per.Minute\": 100, \"Energy\": 88, \"Danceability\": 77, \"Loudness..dB..\": -5, \"Liveness\": 32, \"Valence.\": 39, \"Length.\": 224, \"Acousticness..\": 19, \"Speechiness.\": 6, \"Popularity\": 89, \"Valence\": \"ok\", \"BeatsPerMinute\": 100}, {\"Unnamed: 0\": 36, \"Track.Name\": \"Summer Days (feat. Macklemore & Patrick Stump of Fall Out Boy)\", \"Artist.Name\": \"Martin Garrix\", \"Genre\": \"other\", \"Beats.Per.Minute\": 114, \"Energy\": 72, \"Danceability\": 66, \"Loudness..dB..\": -7, \"Liveness\": 14, \"Valence.\": 32, \"Length.\": 164, \"Acousticness..\": 18, \"Speechiness.\": 6, \"Popularity\": 89, \"Valence\": \"ok\", \"BeatsPerMinute\": 114}, {\"Unnamed: 0\": 37, \"Track.Name\": \"Otro Trago\", \"Artist.Name\": \"Sech\", \"Genre\": \"pop\", \"Beats.Per.Minute\": 176, \"Energy\": 70, \"Danceability\": 75, \"Loudness..dB..\": -5, \"Liveness\": 11, \"Valence.\": 62, \"Length.\": 226, \"Acousticness..\": 14, \"Speechiness.\": 34, \"Popularity\": 91, \"Valence\": \"ok\", \"BeatsPerMinute\": 176}, {\"Unnamed: 0\": 38, \"Track.Name\": \"Antisocial (with Travis Scott)\", \"Artist.Name\": \"Ed Sheeran\", \"Genre\": \"pop\", \"Beats.Per.Minute\": 152, \"Energy\": 82, \"Danceability\": 72, \"Loudness..dB..\": -5, \"Liveness\": 36, \"Valence.\": 91, \"Length.\": 162, \"Acousticness..\": 13, \"Speechiness.\": 5, \"Popularity\": 87, \"Valence\": \"happy\", \"BeatsPerMinute\": 152}, {\"Unnamed: 0\": 39, \"Track.Name\": \"Sucker\", \"Artist.Name\": \"Jonas Brothers\", \"Genre\": \"other\", \"Beats.Per.Minute\": 138, \"Energy\": 73, \"Danceability\": 84, \"Loudness..dB..\": -5, \"Liveness\": 11, \"Valence.\": 95, \"Length.\": 181, \"Acousticness..\": 4, \"Speechiness.\": 6, \"Popularity\": 80, \"Valence\": \"happy\", \"BeatsPerMinute\": 138}, {\"Unnamed: 0\": 40, \"Track.Name\": \"fuck i'm lonely (with Anne-Marie) - from \\ufffd13 Reasons Why: Season 3\\ufffd\", \"Artist.Name\": \"Lauv\", \"Genre\": \"pop\", \"Beats.Per.Minute\": 95, \"Energy\": 56, \"Danceability\": 81, \"Loudness..dB..\": -6, \"Liveness\": 6, \"Valence.\": 68, \"Length.\": 199, \"Acousticness..\": 48, \"Speechiness.\": 7, \"Popularity\": 78, \"Valence\": \"ok\", \"BeatsPerMinute\": 95}, {\"Unnamed: 0\": 41, \"Track.Name\": \"Higher Love\", \"Artist.Name\": \"Kygo\", \"Genre\": \"other\", \"Beats.Per.Minute\": 104, \"Energy\": 68, \"Danceability\": 69, \"Loudness..dB..\": -7, \"Liveness\": 10, \"Valence.\": 40, \"Length.\": 228, \"Acousticness..\": 2, \"Speechiness.\": 3, \"Popularity\": 88, \"Valence\": \"ok\", \"BeatsPerMinute\": 104}, {\"Unnamed: 0\": 42, \"Track.Name\": \"You Need To Calm Down\", \"Artist.Name\": \"Taylor Swift\", \"Genre\": \"pop\", \"Beats.Per.Minute\": 85, \"Energy\": 68, \"Danceability\": 77, \"Loudness..dB..\": -6, \"Liveness\": 7, \"Valence.\": 73, \"Length.\": 171, \"Acousticness..\": 1, \"Speechiness.\": 5, \"Popularity\": 90, \"Valence\": \"happy\", \"BeatsPerMinute\": 85}, {\"Unnamed: 0\": 43, \"Track.Name\": \"Shallow\", \"Artist.Name\": \"Lady Gaga\", \"Genre\": \"pop\", \"Beats.Per.Minute\": 96, \"Energy\": 39, \"Danceability\": 57, \"Loudness..dB..\": -6, \"Liveness\": 23, \"Valence.\": 32, \"Length.\": 216, \"Acousticness..\": 37, \"Speechiness.\": 3, \"Popularity\": 87, \"Valence\": \"ok\", \"BeatsPerMinute\": 96}, {\"Unnamed: 0\": 44, \"Track.Name\": \"Talk\", \"Artist.Name\": \"Khalid\", \"Genre\": \"pop\", \"Beats.Per.Minute\": 136, \"Energy\": 40, \"Danceability\": 90, \"Loudness..dB..\": -9, \"Liveness\": 6, \"Valence.\": 35, \"Length.\": 198, \"Acousticness..\": 5, \"Speechiness.\": 13, \"Popularity\": 84, \"Valence\": \"ok\", \"BeatsPerMinute\": 136}, {\"Unnamed: 0\": 45, \"Track.Name\": \"Con Altura\", \"Artist.Name\": \"ROSAL\\ufffdA\", \"Genre\": \"other\", \"Beats.Per.Minute\": 98, \"Energy\": 69, \"Danceability\": 88, \"Loudness..dB..\": -4, \"Liveness\": 5, \"Valence.\": 75, \"Length.\": 162, \"Acousticness..\": 39, \"Speechiness.\": 12, \"Popularity\": 88, \"Valence\": \"happy\", \"BeatsPerMinute\": 98}, {\"Unnamed: 0\": 46, \"Track.Name\": \"One Thing Right\", \"Artist.Name\": \"Marshmello\", \"Genre\": \"other\", \"Beats.Per.Minute\": 88, \"Energy\": 62, \"Danceability\": 66, \"Loudness..dB..\": -2, \"Liveness\": 58, \"Valence.\": 44, \"Length.\": 182, \"Acousticness..\": 7, \"Speechiness.\": 5, \"Popularity\": 88, \"Valence\": \"ok\", \"BeatsPerMinute\": 88}, {\"Unnamed: 0\": 47, \"Track.Name\": \"Te Robar\\ufffd\", \"Artist.Name\": \"Nicky Jam\", \"Genre\": \"other\", \"Beats.Per.Minute\": 176, \"Energy\": 75, \"Danceability\": 67, \"Loudness..dB..\": -4, \"Liveness\": 8, \"Valence.\": 80, \"Length.\": 202, \"Acousticness..\": 24, \"Speechiness.\": 6, \"Popularity\": 88, \"Valence\": \"happy\", \"BeatsPerMinute\": 176}, {\"Unnamed: 0\": 48, \"Track.Name\": \"Happier\", \"Artist.Name\": \"Marshmello\", \"Genre\": \"other\", \"Beats.Per.Minute\": 100, \"Energy\": 79, \"Danceability\": 69, \"Loudness..dB..\": -3, \"Liveness\": 17, \"Valence.\": 67, \"Length.\": 214, \"Acousticness..\": 19, \"Speechiness.\": 5, \"Popularity\": 88, \"Valence\": \"ok\", \"BeatsPerMinute\": 100}, {\"Unnamed: 0\": 49, \"Track.Name\": \"Call You Mine\", \"Artist.Name\": \"The Chainsmokers\", \"Genre\": \"other\", \"Beats.Per.Minute\": 104, \"Energy\": 70, \"Danceability\": 59, \"Loudness..dB..\": -6, \"Liveness\": 41, \"Valence.\": 50, \"Length.\": 218, \"Acousticness..\": 23, \"Speechiness.\": 3, \"Popularity\": 88, \"Valence\": \"ok\", \"BeatsPerMinute\": 104}, {\"Unnamed: 0\": 50, \"Track.Name\": \"Cross Me (feat. Chance the Rapper & PnB Rock)\", \"Artist.Name\": \"Ed Sheeran\", \"Genre\": \"pop\", \"Beats.Per.Minute\": 95, \"Energy\": 79, \"Danceability\": 75, \"Loudness..dB..\": -6, \"Liveness\": 7, \"Valence.\": 61, \"Length.\": 206, \"Acousticness..\": 21, \"Speechiness.\": 12, \"Popularity\": 82, \"Valence\": \"ok\", \"BeatsPerMinute\": 95}]}}, {\"mode\": \"vega-lite\"});\n",
       "</script>"
      ],
      "text/plain": [
       "alt.Chart(...)"
      ]
     },
     "execution_count": 1,
     "metadata": {},
     "output_type": "execute_result"
    }
   ],
   "source": [
    "import pandas as pd\n",
    "import altair as alt\n",
    "\n",
    "data = pd.read_csv('top50.csv')\n",
    "\n",
    "def genre_transform(genre):\n",
    "    if 'pop' in genre:\n",
    "        return 'pop'\n",
    "    if 'rap' in genre or 'hip hop' in genre:\n",
    "        return 'rap/hip hop'\n",
    "    return 'other'\n",
    "\n",
    "def valence_transform(valence):\n",
    "    if valence > 70:\n",
    "        return 'happy'\n",
    "    if valence < 30:\n",
    "        return 'sad'\n",
    "    return 'ok'\n",
    "\n",
    "data['Genre'] = [genre_transform(i) for i in data['Genre']]\n",
    "data['Valence'] = [valence_transform(i) for i in data['Valence.']]\n",
    "data['BeatsPerMinute'] = data['Beats.Per.Minute']\n",
    "\n",
    "alt.Chart(data).mark_point(filled=True).encode(\n",
    "    alt.OpacityValue(0.5),\n",
    "    alt.X(\n",
    "        'Energy:Q',\n",
    "        scale=alt.Scale(domain=(30, 90)),\n",
    "    ),\n",
    "    alt.Y(\n",
    "        'Danceability:Q',\n",
    "        scale=alt.Scale(domain=(25, 95)),\n",
    "    ),\n",
    "    size='BeatsPerMinute:Q',\n",
    "    color='Genre:N',\n",
    "    shape='Valence:N',\n",
    ")"
   ]
  }
 ],
 "metadata": {
  "interpreter": {
   "hash": "b0fa6594d8f4cbf19f97940f81e996739fb7646882a419484c72d19e05852a7e"
  },
  "kernelspec": {
   "display_name": "Python 3.9.7 64-bit",
   "language": "python",
   "name": "python3"
  },
  "language_info": {
   "codemirror_mode": {
    "name": "ipython",
    "version": 3
   },
   "file_extension": ".py",
   "mimetype": "text/x-python",
   "name": "python",
   "nbconvert_exporter": "python",
   "pygments_lexer": "ipython3",
   "version": "3.9.7"
  },
  "orig_nbformat": 4
 },
 "nbformat": 4,
 "nbformat_minor": 2
}
